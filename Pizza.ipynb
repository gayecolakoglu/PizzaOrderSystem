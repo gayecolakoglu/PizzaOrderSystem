{
  "nbformat": 4,
  "nbformat_minor": 0,
  "metadata": {
    "colab": {
      "provenance": []
    },
    "kernelspec": {
      "name": "python3",
      "display_name": "Python 3"
    },
    "language_info": {
      "name": "python"
    }
  },
  "cells": [
    {
      "cell_type": "code",
      "execution_count": 1,
      "metadata": {
        "id": "20ZeCYt6dadu"
      },
      "outputs": [],
      "source": [
        "import csv\n",
        "import datetime \n"
      ]
    },
    {
      "cell_type": "code",
      "source": [
        "with open(\"Menu.txt\", \"w\") as menu:\n",
        "    menu.write(\"\"\"* Lütfen Pizzanızı Seçiniz:\n",
        "1: Klasik Pizza --> 65₺\n",
        "2: Margarita -----> 100₺\n",
        "3: Türk Pizza ----> 85₺\n",
        "4: Sade Pizza ----> 75₺\n",
        "5: New York Pizza-> 125₺\n",
        "6: Kantin Pizza --> 45₺\n",
        "* Seçmek İstediğiniz Ekstra Malzemeler:\n",
        "11: Zeytin --> 1.25₺\n",
        "12: Mantar --> 2.35₺\n",
        "13: Peynir --> 3.50₺\n",
        "14: Et ------> 7.50₺\n",
        "15: Soğan ---> 3.75₺\n",
        "16: Mısır ---> 1.75₺\n",
        "17: Pastırma-> 8.75₺\n",
        "18: Sucuk ---> 5.75₺\n",
        "19: Jambon --> 4.25₺\n",
        "20: Kekik ---> 0.50₺\n",
        "* Seçiminiz İçin Teşekkür Ederiz!\\n\"\"\")"
      ],
      "metadata": {
        "id": "3HmIew7zdkt5"
      },
      "execution_count": 2,
      "outputs": []
    },
    {
      "cell_type": "code",
      "source": [
        "with open(\"Menu.txt\") as menu:\n",
        "    menu_dict = {}\n",
        "    for line in menu:\n",
        "        if \"*\" in line:\n",
        "            continue\n",
        "        (key, val) = line.split(\": \")\n",
        "        val = val[:-1]\n",
        "        menu_dict[int(key)] = val\n",
        "4"
      ],
      "metadata": {
        "id": "tEjoK585g0be",
        "colab": {
          "base_uri": "https://localhost:8080/"
        },
        "outputId": "976b8b63-a9f0-4713-fd10-49b6616c7b1c"
      },
      "execution_count": 3,
      "outputs": [
        {
          "output_type": "execute_result",
          "data": {
            "text/plain": [
              "4"
            ]
          },
          "metadata": {},
          "execution_count": 3
        }
      ]
    },
    {
      "cell_type": "code",
      "source": [
        "class Pizza:\n",
        "    def get_description(self): # pizza açıklaması için get metodu\n",
        "        return self.__class__.__name__\n",
        "\n",
        "    def get_cost(self): # fiyat bilgisi için yine get metodunu tanımladık\n",
        "        return self.__class__.cost\n"
      ],
      "metadata": {
        "id": "QZs2bO4Fg47t"
      },
      "execution_count": 4,
      "outputs": []
    },
    {
      "cell_type": "code",
      "source": [
        "class Klasik(Pizza):\n",
        "    cost = 65.0\n",
        "\n",
        "    def __init__(self):\n",
        "        # Bu kısımda pizza türlerinde ki malzemeleri ekrana yazdırmak istedim.\n",
        "        self.description = \"Standart Malzemeler: Domates sosu, Sucuk, Peynir, Mısır\"\n",
        "        print(self.description +\"\\n\")\n",
        "\n",
        "class Margarita(Pizza):\n",
        "    cost = 100.0\n",
        "\n",
        "    def __init__(self):\n",
        "        self.description = \"Standart Malzemeler: Domates sosu, Mozarella ve Fesleğen\"\n",
        "        print(self.description +\"\\n\")\n",
        "\n",
        "class TurkPizza(Pizza):\n",
        "    cost = 85.0\n",
        "\n",
        "    def __init__(self):\n",
        "        self.description = \"Standart Malzemeler: Domates sosu, Peynir, Pastırma, Mısır\"\n",
        "        print(self.description +\"\\n\")\n",
        "\n",
        "class SadePizza(Pizza):\n",
        "    cost = 75.0\n",
        "\n",
        "    def __init__(self):\n",
        "        self.description = \"Standart Malzemeler: Domates sosu, Peynir\"\n",
        "        print(self.description +\"\\n\")\n",
        "\n",
        "class NewYorkPizza(Pizza):\n",
        "    cost = 125.0\n",
        "\n",
        "    def __init__(self):\n",
        "        self.description = \"Standart Malzemeler: Domates sosu, Peynir, Pepperoni\"\n",
        "        print(self.description +\"\\n\")\n",
        "\n",
        "class KantinPizza(Pizza):\n",
        "    cost = 45.0\n",
        "\n",
        "    def __init__(self):\n",
        "        self.description = \"Standart Malzemeler: Domates sosu, Peynir, Mantar, Mısır, Kekik\"\n",
        "        print(self.description +\"\\n\")\n"
      ],
      "metadata": {
        "id": "apMiN1j4iYGB"
      },
      "execution_count": 5,
      "outputs": []
    },
    {
      "cell_type": "code",
      "source": [
        "class Decorator(Pizza):\n",
        "    def __init__(self, topping):\n",
        "        self.component = topping\n",
        "\n",
        "    def get_cost(self):\n",
        "        return self.component.get_cost() + \\\n",
        "          Pizza.get_cost(self)\n",
        "\n",
        "    def get_description(self):\n",
        "        return self.component.get_description() + \\\n",
        "          ' : ' + Pizza.get_description(self)\n"
      ],
      "metadata": {
        "id": "0EHZnw3RjGU8"
      },
      "execution_count": 6,
      "outputs": []
    },
    {
      "cell_type": "code",
      "source": [
        "class Zeytin(Decorator):\n",
        "    cost = 1.25\n",
        "\n",
        "    def __init__(self, topping):\n",
        "        Decorator.__init__(self, topping)\n",
        "\n",
        "\n",
        "class Mantar(Decorator):\n",
        "    cost = 2.35\n",
        "\n",
        "    def __init__(self, topping):\n",
        "        Decorator.__init__(self, topping)\n",
        "\n",
        "\n",
        "class Peynir(Decorator):\n",
        "    cost = 3.50\n",
        "\n",
        "    def __init__(self, topping):\n",
        "        Decorator.__init__(self, topping)\n",
        "\n",
        "\n",
        "class Et(Decorator):\n",
        "    cost = 7.50\n",
        "\n",
        "    def __init__(self, topping):\n",
        "        Decorator.__init__(self, topping)\n",
        "\n",
        "\n",
        "class Sogan(Decorator):\n",
        "    cost = 3.75\n",
        "\n",
        "    def __init__(self, topping):\n",
        "        Decorator.__init__(self, topping)\n",
        "\n",
        "\n",
        "class Misir(Decorator):\n",
        "    cost = 1.75\n",
        "\n",
        "    def __init__(self, topping):\n",
        "        Decorator.__init__(self, topping)\n",
        "\n",
        "class Pastirma(Decorator):\n",
        "    cost = 8.75\n",
        "\n",
        "    def __init__(self, topping):\n",
        "        Decorator.__init__(self, topping)\n",
        "\n",
        "class Sucuk(Decorator):\n",
        "    cost = 5.75\n",
        "\n",
        "    def __init__(self, topping):\n",
        "        Decorator.__init__(self, topping)\n",
        "\n",
        "class Jambon(Decorator):\n",
        "    cost = 4.25\n",
        "\n",
        "    def __init__(self, topping):\n",
        "        Decorator.__init__(self, topping)\n",
        "\n",
        "class Kekik(Decorator):\n",
        "    cost = 0.50\n",
        "\n",
        "    def __init__(self, topping):\n",
        "        Decorator.__init__(self, topping)\n"
      ],
      "metadata": {
        "id": "vMY2UVrkRNRs"
      },
      "execution_count": 7,
      "outputs": []
    },
    {
      "cell_type": "code",
      "source": [
        "def main():\n",
        "    with open(\"Menu.txt\") as cust_menu:\n",
        "        for l in cust_menu:\n",
        "            print(l, end=\"\")\n",
        "\n",
        "    class_dict = {1: Klasik, \n",
        "                  2: Margarita, \n",
        "                  3: TurkPizza, \n",
        "                  4: SadePizza, \n",
        "                  5: NewYorkPizza,\n",
        "                  6: KantinPizza,\n",
        "                  11: Zeytin, \n",
        "                  12: Mantar, \n",
        "                  13: Peynir, \n",
        "                  14: Et, \n",
        "                  15: Sogan, \n",
        "                  16: Misir,\n",
        "                  17: Pastirma,\n",
        "                  18: Sucuk,\n",
        "                  19: Jambon,\n",
        "                  20: Kekik}\n",
        "\n",
        "    code = input(\"Lütfen Pizzanızı Seçiniz: \")\n",
        "    while code not in [\"1\", \"2\", \"3\", \"4\", \"5\", \"6\"]:\n",
        "        code = input(\"Hatalı Seçim Yaptınız: \")\n",
        "\n",
        "    order = class_dict[int(code)]()\n",
        "\n",
        "    while code != \"0\":\n",
        "        code = input(\"Ekstra Malzeme İçin Malzeme Numarasını Seçiniz (Siparişinizi Onaylamak İçin '0' tuşuna basınız): \")\n",
        "        if code in [\"11\", \"12\", \"13\", \"14\", \"15\", \"16\", \"17\", \"18\", \"19\", \"20\"]:\n",
        "            order = class_dict[int(code)](order)\n",
        "\n",
        "    print(\"\\n\"+order.get_description().strip() +\n",
        "          \": ₺\" + str(order.get_cost()))\n",
        "    print(\"\\n\")\n",
        "\n",
        "    print(\"----------Sipariş Bilgileri----------\\n\")\n",
        "    name = input(\"Adınız: \")\n",
        "    ID = input(\"Kimlik Numaranız: \")\n",
        "    credit_card = input(\"Kredi Kartı Numaranızı Giriniz: \")\n",
        "    credit_pass = input(\"Kredi Kartı Şifresi: \")\n",
        "    time_of_order = datetime.datetime.now()\n",
        "\n",
        "    with open('Orders_Database.csv', 'a') as orders:\n",
        "        orders = csv.writer(orders, delimiter=',')\n",
        "        orders.writerow([name, ID, credit_card, credit_pass, order.get_description(), time_of_order])\n",
        "    print(\"Sipariş Onaylandı.\")\n",
        "\n",
        "if __name__ == '__main__':\n",
        "    main()\n"
      ],
      "metadata": {
        "colab": {
          "base_uri": "https://localhost:8080/"
        },
        "id": "tCCehpRTRQ5G",
        "outputId": "e7da40e4-8f0b-44a2-ae87-73744e40b71c"
      },
      "execution_count": 8,
      "outputs": [
        {
          "output_type": "stream",
          "name": "stdout",
          "text": [
            "* Lütfen Pizzanızı Seçiniz:\n",
            "1: Klasik Pizza --> 65₺\n",
            "2: Margarita -----> 100₺\n",
            "3: Türk Pizza ----> 85₺\n",
            "4: Sade Pizza ----> 75₺\n",
            "5: New York Pizza-> 125₺\n",
            "6: Kantin Pizza --> 45₺\n",
            "* Seçmek İstediğiniz Ekstra Malzemeler:\n",
            "11: Zeytin --> 1.25₺\n",
            "12: Mantar --> 2.35₺\n",
            "13: Peynir --> 3.50₺\n",
            "14: Et ------> 7.50₺\n",
            "15: Soğan ---> 3.75₺\n",
            "16: Mısır ---> 1.75₺\n",
            "17: Pastırma-> 8.75₺\n",
            "18: Sucuk ---> 5.75₺\n",
            "19: Jambon --> 4.25₺\n",
            "20: Kekik ---> 0.50₺\n",
            "* Seçiminiz İçin Teşekkür Ederiz!\n",
            "Lütfen Pizzanızı Seçiniz: 5\n",
            "Standart Malzemeler: Domates sosu, Peynir, Pepperoni\n",
            "\n",
            "Ekstra Malzeme İçin Malzeme Numarasını Seçiniz (Siparişinizi Onaylamak İçin '0' tuşuna basınız): 0\n",
            "\n",
            "NewYorkPizza: ₺125.0\n",
            "\n",
            "\n",
            "----------Sipariş Bilgileri----------\n",
            "\n",
            "Adınız: Gaye\n",
            "Kimlik Numaranız: 123\n",
            "Kredi Kartı Numaranızı Giriniz: 1\n",
            "Kredi Kartı Şifresi: 1\n",
            "Sipariş Onaylandı.\n"
          ]
        }
      ]
    }
  ]
}